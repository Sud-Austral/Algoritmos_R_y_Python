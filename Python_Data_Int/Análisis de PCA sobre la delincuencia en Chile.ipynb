{
 "cells": [
  {
   "cell_type": "markdown",
   "metadata": {},
   "source": [
    "# Análisis de componentes principales para el estudio del delito en Chile. Medium."
   ]
  },
  {
   "cell_type": "markdown",
   "metadata": {},
   "source": [
    "## Histogramas"
   ]
  },
  {
   "cell_type": "markdown",
   "metadata": {},
   "source": [
    "Introducidos por Karl Pearson, un histograma es la representación precisa de la distribución de datos numéricos, que es una estimación de la distribución de probabilidad de una variable continua (CORAL). Parece similar al gráfico de barras, pero un gráfico de barras relaciona dos variables, mientras que un histograma relaciona solo una.\n",
    "\n",
    "Un histograma requiere de un contenedor que divida el rango completo de valores en una serie de intervalos, y luego cuenta cuántos valores caen en cada uno. Los contenedores generalmente se especifican como intervalos consecutivos, no superpuestos de una variable. Los contenedores deben ser adyacentes y, a menudo, son del mismo tamaño. Se levanta un rectángulo sobre el contenedor con una altura proporcional a la frecuencia: el número de casos en cada contenedor.\n",
    "\n",
    "La función go.Histogram( ) devuelve el objeto de rastreo de histograma. Su personalización se realiza mediante varios argumentos o atributos. Un argumento esencial es x o y establecido en una lista, un numpy array o un objeto DataFrame Pandas que se distribuirá en contenedores.\n",
    "\n",
    "Por defecto, Plotly distribuye los puntos de datos en contenedores de tamaño automático. Sin embargo, puedes definir un tamaño de contenedor personalizado. Para ello necesitas establecer autobins en falso, especificar4 nbins (número de bins), sus valores y tamaño de inicio y fin."
   ]
  },
  {
   "cell_type": "code",
   "execution_count": 761,
   "metadata": {},
   "outputs": [],
   "source": [
    "import pandas as pd\n",
    "import plotly.graph_objects as go\n",
    "import numpy as np"
   ]
  },
  {
   "cell_type": "code",
   "execution_count": 762,
   "metadata": {},
   "outputs": [],
   "source": [
    "df = pd.read_csv(\"C:/Users/usuario/Documents/GitHub_Personal/Bases_de_Datos_DS/dmcs1.csv\" , delimiter=\";\",encoding='latin1',decimal=\",\")"
   ]
  },
  {
   "cell_type": "code",
   "execution_count": 763,
   "metadata": {
    "scrolled": false
   },
   "outputs": [
    {
     "data": {
      "text/html": [
       "<div>\n",
       "<style scoped>\n",
       "    .dataframe tbody tr th:only-of-type {\n",
       "        vertical-align: middle;\n",
       "    }\n",
       "\n",
       "    .dataframe tbody tr th {\n",
       "        vertical-align: top;\n",
       "    }\n",
       "\n",
       "    .dataframe thead th {\n",
       "        text-align: right;\n",
       "    }\n",
       "</style>\n",
       "<table border=\"1\" class=\"dataframe\">\n",
       "  <thead>\n",
       "    <tr style=\"text-align: right;\">\n",
       "      <th></th>\n",
       "      <th>REGION</th>\n",
       "      <th>UNIDAD TERRITORIAL</th>\n",
       "      <th>Rob_vio_o_int</th>\n",
       "      <th>Rob_sor</th>\n",
       "      <th>Rob_fuerza</th>\n",
       "      <th>Rob_vehi</th>\n",
       "      <th>Rob_acc_vehi</th>\n",
       "      <th>Robo_lug_habi</th>\n",
       "      <th>Robo_lug_no_habi</th>\n",
       "      <th>Otros_rob_fuerza</th>\n",
       "      <th>Hurtos</th>\n",
       "      <th>Lesiones</th>\n",
       "      <th>Lesiones_leves</th>\n",
       "      <th>Lesiones_graves</th>\n",
       "      <th>Homicidio</th>\n",
       "      <th>Violacion</th>\n",
       "    </tr>\n",
       "  </thead>\n",
       "  <tbody>\n",
       "    <tr>\n",
       "      <th>0</th>\n",
       "      <td>3</td>\n",
       "      <td>Alto del Carmen</td>\n",
       "      <td>0.0</td>\n",
       "      <td>0.0</td>\n",
       "      <td>231.238175</td>\n",
       "      <td>0.0</td>\n",
       "      <td>0.000000</td>\n",
       "      <td>84.086609</td>\n",
       "      <td>147.151566</td>\n",
       "      <td>0.00000</td>\n",
       "      <td>147.151566</td>\n",
       "      <td>105.108261</td>\n",
       "      <td>63.064957</td>\n",
       "      <td>42.043305</td>\n",
       "      <td>0.0</td>\n",
       "      <td>0.000000</td>\n",
       "    </tr>\n",
       "    <tr>\n",
       "      <th>1</th>\n",
       "      <td>12</td>\n",
       "      <td>Ant rtica</td>\n",
       "      <td>0.0</td>\n",
       "      <td>0.0</td>\n",
       "      <td>0.000000</td>\n",
       "      <td>0.0</td>\n",
       "      <td>0.000000</td>\n",
       "      <td>0.000000</td>\n",
       "      <td>0.000000</td>\n",
       "      <td>0.00000</td>\n",
       "      <td>0.000000</td>\n",
       "      <td>0.000000</td>\n",
       "      <td>0.000000</td>\n",
       "      <td>0.000000</td>\n",
       "      <td>0.0</td>\n",
       "      <td>0.000000</td>\n",
       "    </tr>\n",
       "    <tr>\n",
       "      <th>2</th>\n",
       "      <td>12</td>\n",
       "      <td>Cabo de Hornos</td>\n",
       "      <td>0.0</td>\n",
       "      <td>0.0</td>\n",
       "      <td>132.013201</td>\n",
       "      <td>0.0</td>\n",
       "      <td>0.000000</td>\n",
       "      <td>0.000000</td>\n",
       "      <td>132.013201</td>\n",
       "      <td>0.00000</td>\n",
       "      <td>99.009901</td>\n",
       "      <td>99.009901</td>\n",
       "      <td>66.006601</td>\n",
       "      <td>33.003300</td>\n",
       "      <td>0.0</td>\n",
       "      <td>0.000000</td>\n",
       "    </tr>\n",
       "    <tr>\n",
       "      <th>3</th>\n",
       "      <td>15</td>\n",
       "      <td>Camarones</td>\n",
       "      <td>0.0</td>\n",
       "      <td>0.0</td>\n",
       "      <td>420.388860</td>\n",
       "      <td>0.0</td>\n",
       "      <td>52.548607</td>\n",
       "      <td>210.194430</td>\n",
       "      <td>157.645822</td>\n",
       "      <td>0.00000</td>\n",
       "      <td>367.840252</td>\n",
       "      <td>262.743037</td>\n",
       "      <td>262.743037</td>\n",
       "      <td>0.000000</td>\n",
       "      <td>0.0</td>\n",
       "      <td>52.548607</td>\n",
       "    </tr>\n",
       "    <tr>\n",
       "      <th>4</th>\n",
       "      <td>1</td>\n",
       "      <td>Cami¤a</td>\n",
       "      <td>0.0</td>\n",
       "      <td>0.0</td>\n",
       "      <td>353.356890</td>\n",
       "      <td>0.0</td>\n",
       "      <td>0.000000</td>\n",
       "      <td>117.785630</td>\n",
       "      <td>117.785630</td>\n",
       "      <td>117.78563</td>\n",
       "      <td>117.785630</td>\n",
       "      <td>824.499411</td>\n",
       "      <td>706.713781</td>\n",
       "      <td>117.785630</td>\n",
       "      <td>0.0</td>\n",
       "      <td>0.000000</td>\n",
       "    </tr>\n",
       "  </tbody>\n",
       "</table>\n",
       "</div>"
      ],
      "text/plain": [
       "   REGION UNIDAD TERRITORIAL  Rob_vio_o_int  Rob_sor  Rob_fuerza  Rob_vehi  \\\n",
       "0       3    Alto del Carmen            0.0      0.0  231.238175       0.0   \n",
       "1      12          Ant rtica            0.0      0.0    0.000000       0.0   \n",
       "2      12     Cabo de Hornos            0.0      0.0  132.013201       0.0   \n",
       "3      15          Camarones            0.0      0.0  420.388860       0.0   \n",
       "4       1             Cami¤a            0.0      0.0  353.356890       0.0   \n",
       "\n",
       "   Rob_acc_vehi  Robo_lug_habi  Robo_lug_no_habi  Otros_rob_fuerza  \\\n",
       "0      0.000000      84.086609        147.151566           0.00000   \n",
       "1      0.000000       0.000000          0.000000           0.00000   \n",
       "2      0.000000       0.000000        132.013201           0.00000   \n",
       "3     52.548607     210.194430        157.645822           0.00000   \n",
       "4      0.000000     117.785630        117.785630         117.78563   \n",
       "\n",
       "       Hurtos    Lesiones  Lesiones_leves  Lesiones_graves  Homicidio  \\\n",
       "0  147.151566  105.108261       63.064957        42.043305        0.0   \n",
       "1    0.000000    0.000000        0.000000         0.000000        0.0   \n",
       "2   99.009901   99.009901       66.006601        33.003300        0.0   \n",
       "3  367.840252  262.743037      262.743037         0.000000        0.0   \n",
       "4  117.785630  824.499411      706.713781       117.785630        0.0   \n",
       "\n",
       "   Violacion  \n",
       "0   0.000000  \n",
       "1   0.000000  \n",
       "2   0.000000  \n",
       "3  52.548607  \n",
       "4   0.000000  "
      ]
     },
     "execution_count": 763,
     "metadata": {},
     "output_type": "execute_result"
    }
   ],
   "source": [
    "df.head(5)"
   ]
  },
  {
   "cell_type": "markdown",
   "metadata": {},
   "source": [
    "Robo con violencia o intimidación:  Consiste en la apropiación de una cosa mueble ajena, efectuada sin la voluntad de su dueño y con ánimo de lucro, ejerciendo el autor fuerza física o moral sobre una persona.\n",
    "\n",
    "Robo por sorpresa: Se trata de una figura intermedia entre el hurto y el robo, porque en su comisión no se emplea la violencia propia del delito de robo con violencia o intimidación, pero tampoco se actúa en la clandestinidad normalmente inherente al hurto. Es lo que se conoce como el “lanzazo”. Ocurre cuando los autores actúan por sorpresa, aparentando riñas o montando maniobras para causar confusión en lugares públicos."
   ]
  },
  {
   "cell_type": "code",
   "execution_count": 764,
   "metadata": {},
   "outputs": [
    {
     "data": {
      "text/plain": [
       "0         0.000000\n",
       "1         0.000000\n",
       "2         0.000000\n",
       "3         0.000000\n",
       "4         0.000000\n",
       "          ...     \n",
       "341    1257.437970\n",
       "342    1335.613356\n",
       "343    1453.901251\n",
       "344    1641.376497\n",
       "345    2790.062525\n",
       "Name: Rob_vio_o_int, Length: 346, dtype: float64"
      ]
     },
     "execution_count": 764,
     "metadata": {},
     "output_type": "execute_result"
    }
   ],
   "source": [
    "df['Rob_vio_o_int']"
   ]
  },
  {
   "cell_type": "code",
   "execution_count": 804,
   "metadata": {
    "scrolled": true
   },
   "outputs": [
    {
     "data": {
      "text/html": [
       "\n",
       "        <iframe\n",
       "            width=\"700px\"\n",
       "            height=\"400px\"\n",
       "            src=\"https://plotly.com/~ChrisDI/184.embed\"\n",
       "            frameborder=\"0\"\n",
       "            allowfullscreen\n",
       "        ></iframe>\n",
       "        "
      ],
      "text/plain": [
       "<IPython.lib.display.IFrame at 0x2b6884f6fc8>"
      ]
     },
     "execution_count": 804,
     "metadata": {},
     "output_type": "execute_result"
    }
   ],
   "source": [
    "\n",
    "trace1 = go.Histogram(\n",
    "    x = df['Rob_vio_o_int'],   \n",
    "    # histnorm = 'percent')\n",
    "    histnorm = 'probability',\n",
    "    opacity = 0.55,\n",
    "    name = 'Robos con violencia o intimidacion',\n",
    "    nbinsx=60)              \n",
    "                      \n",
    "trace2 = go.Histogram(\n",
    "    x = df['Rob_sor'],   \n",
    "    # histnorm = 'percent')\n",
    "    histnorm = 'probability',\n",
    "    opacity = 0.55,\n",
    "    name = 'Robos por sorpresa',\n",
    "    nbinsx=60,\n",
    "\n",
    "    yaxis = 'y2')\n",
    "\n",
    "data = [trace1, trace2]\n",
    "\n",
    "layout = go.Layout(\n",
    "    title='Distribución de la probabilidad de los delitos por comuna',\n",
    "    barmode='overlay',\n",
    "    xaxis=dict(\n",
    "    title='tasa'\n",
    "    ),\n",
    "    yaxis=dict(\n",
    "        title='Probabilidad de robos con violencia o intimidación'\n",
    "    ),\n",
    "    yaxis2=dict(\n",
    "        title='Probabilidad de robos por sorpresa',\n",
    "        anchor='free',\n",
    "        overlaying='y',\n",
    "        side='right',\n",
    "        position=1\n",
    "    ),\n",
    "    height=400, width=700\n",
    ") \n",
    "\n",
    "fig = go.Figure(data=data, layout=layout)\n",
    "py.iplot(fig)"
   ]
  },
  {
   "cell_type": "code",
   "execution_count": 790,
   "metadata": {},
   "outputs": [
    {
     "data": {
      "text/plain": [
       "{'whiskers': [<matplotlib.lines.Line2D at 0x2b68a32e4c8>,\n",
       "  <matplotlib.lines.Line2D at 0x2b68a32e148>,\n",
       "  <matplotlib.lines.Line2D at 0x2b68a306e48>,\n",
       "  <matplotlib.lines.Line2D at 0x2b68a306408>],\n",
       " 'caps': [<matplotlib.lines.Line2D at 0x2b68a346f08>,\n",
       "  <matplotlib.lines.Line2D at 0x2b68a397e08>,\n",
       "  <matplotlib.lines.Line2D at 0x2b68a315588>,\n",
       "  <matplotlib.lines.Line2D at 0x2b68a315448>],\n",
       " 'boxes': [<matplotlib.patches.PathPatch at 0x2b68a32e908>,\n",
       "  <matplotlib.patches.PathPatch at 0x2b68a306b88>],\n",
       " 'medians': [<matplotlib.lines.Line2D at 0x2b68a32e348>,\n",
       "  <matplotlib.lines.Line2D at 0x2b68a306c48>],\n",
       " 'fliers': [],\n",
       " 'means': []}"
      ]
     },
     "execution_count": 790,
     "metadata": {},
     "output_type": "execute_result"
    },
    {
     "data": {
      "image/png": "[encoded data removed]",
      "text/plain": [
       "<Figure size 432x288 with 1 Axes>"
      ]
     },
     "metadata": {
      "needs_background": "light"
     },
     "output_type": "display_data"
    }
   ],
   "source": [
    "import numpy as np\n",
    "import matplotlib.pyplot as plt\n",
    "\n",
    "data = XX_pca\n",
    "\n",
    "fig1, ax1 = plt.subplots()\n",
    "ax1.set_title('Basic Plot')\n",
    "ax1.boxplot([data[\"Rob_vio_o_int\"],data[\"Rob_sor\"]],  notch=True, showfliers=False, widths = 0.7, patch_artist = True)\n",
    "\n"
   ]
  },
  {
   "cell_type": "markdown",
   "metadata": {},
   "source": [
    "### Estandarización"
   ]
  },
  {
   "cell_type": "code",
   "execution_count": 767,
   "metadata": {},
   "outputs": [],
   "source": [
    "from sklearn.preprocessing import StandardScaler"
   ]
  },
  {
   "cell_type": "code",
   "execution_count": 768,
   "metadata": {},
   "outputs": [],
   "source": [
    "Rob_vio_o_int = df['Rob_vio_o_int'].values.reshape(-1, 1)\n",
    "X_std = StandardScaler().fit_transform(Rob_vio_o_int)\n",
    "\n",
    "Rob_sor = df['Rob_sor'].values.reshape(-1, 1)\n",
    "Y_std = StandardScaler().fit_transform(Rob_sor)\n"
   ]
  },
  {
   "cell_type": "code",
   "execution_count": null,
   "metadata": {},
   "outputs": [],
   "source": []
  },
  {
   "cell_type": "markdown",
   "metadata": {},
   "source": [
    "### 3 Valores y vectores propios de la matriz de covarianzas"
   ]
  },
  {
   "cell_type": "code",
   "execution_count": null,
   "metadata": {},
   "outputs": [],
   "source": []
  },
  {
   "cell_type": "code",
   "execution_count": 769,
   "metadata": {},
   "outputs": [],
   "source": [
    "from IPython.display import display, Math, Latex"
   ]
  },
  {
   "cell_type": "code",
   "execution_count": 770,
   "metadata": {},
   "outputs": [
    {
     "data": {
      "text/latex": [
       "$\\displaystyle \\sigma_{jk}$"
      ],
      "text/plain": [
       "<IPython.core.display.Math object>"
      ]
     },
     "metadata": {},
     "output_type": "display_data"
    }
   ],
   "source": [
    "display(Math(r'\\sigma_{jk}'))"
   ]
  },
  {
   "cell_type": "code",
   "execution_count": 771,
   "metadata": {},
   "outputs": [
    {
     "data": {
      "text/plain": [
       "array([4.10718344e-17])"
      ]
     },
     "execution_count": 771,
     "metadata": {},
     "output_type": "execute_result"
    }
   ],
   "source": [
    "mean_vect = np.mean(X_std, axis = 0)\n",
    "mean_vect"
   ]
  },
  {
   "cell_type": "code",
   "execution_count": 772,
   "metadata": {},
   "outputs": [],
   "source": [
    "XX = df.iloc[:,2:16].values\n",
    "XXX_std = StandardScaler().fit_transform(XX)\n",
    "# XXX_std"
   ]
  },
  {
   "cell_type": "code",
   "execution_count": 773,
   "metadata": {},
   "outputs": [],
   "source": [
    "cov_matrix = (XXX_std - mean_vect).T.dot((XXX_std - mean_vect))/(XXX_std.shape[0]-1)\n",
    "# cov_matrix"
   ]
  },
  {
   "cell_type": "code",
   "execution_count": 774,
   "metadata": {},
   "outputs": [],
   "source": [
    "# np.cov(XXX_std.T)"
   ]
  },
  {
   "cell_type": "code",
   "execution_count": 775,
   "metadata": {},
   "outputs": [],
   "source": [
    "# Descomposicion de la matriz de covarianzas:\n",
    "eig_vals, eig_vectors = np.linalg.eig(cov_matrix)\n",
    "# print(\"Valores propios \\n%s\"%eig_vals)\n",
    "# print(\"Vectores propios \\n%s\"%eig_vectors)"
   ]
  },
  {
   "cell_type": "code",
   "execution_count": null,
   "metadata": {},
   "outputs": [],
   "source": []
  },
  {
   "cell_type": "markdown",
   "metadata": {},
   "source": [
    "### 4 Valores y vectores propios utilizando la matriz de correlaciones"
   ]
  },
  {
   "cell_type": "code",
   "execution_count": 797,
   "metadata": {},
   "outputs": [
    {
     "data": {
      "text/plain": [
       "array([[1.        , 0.88470184, 0.66980849, 0.89310135, 0.74666779,\n",
       "        0.16031503, 0.36351788, 0.36070281, 0.54372945, 0.42809897,\n",
       "        0.41968994, 0.25546752, 0.23933723, 0.15041924],\n",
       "       [0.88470184, 1.        , 0.65058729, 0.83202237, 0.71192201,\n",
       "        0.1580298 , 0.38599828, 0.41221024, 0.70013756, 0.43900167,\n",
       "        0.42883671, 0.26701091, 0.20101739, 0.18564921],\n",
       "       [0.66980849, 0.65058729, 1.        , 0.71983799, 0.84326629,\n",
       "        0.68781296, 0.71181462, 0.56224658, 0.64674715, 0.50905585,\n",
       "        0.52534281, 0.21789761, 0.11688712, 0.10081957],\n",
       "       [0.89310135, 0.83202237, 0.71983799, 1.        , 0.78352167,\n",
       "        0.17777935, 0.38498143, 0.38451664, 0.57800168, 0.40345989,\n",
       "        0.4011524 , 0.22241079, 0.19417689, 0.14881543],\n",
       "       [0.74666779, 0.71192201, 0.84326629, 0.78352167, 1.        ,\n",
       "        0.27389616, 0.46761144, 0.52267203, 0.64064372, 0.34281146,\n",
       "        0.36449859, 0.11171718, 0.09352538, 0.06627658],\n",
       "       [0.16031503, 0.1580298 , 0.68781296, 0.17777935, 0.27389616,\n",
       "        1.        , 0.39765218, 0.2158796 , 0.22697048, 0.34335823,\n",
       "        0.36397453, 0.11550693, 0.0445589 , 0.02334517],\n",
       "       [0.36351788, 0.38599828, 0.71181462, 0.38498143, 0.46761144,\n",
       "        0.39765218, 1.        , 0.46517505, 0.56311326, 0.4806365 ,\n",
       "        0.46623406, 0.30302896, 0.08443922, 0.0863236 ],\n",
       "       [0.36070281, 0.41221024, 0.56224658, 0.38451664, 0.52267203,\n",
       "        0.2158796 , 0.46517505, 1.        , 0.4653749 , 0.38474292,\n",
       "        0.41589752, 0.10311714, 0.0100507 , 0.23117818],\n",
       "       [0.54372945, 0.70013756, 0.64674715, 0.57800168, 0.64064372,\n",
       "        0.22697048, 0.56311326, 0.4653749 , 1.        , 0.53139831,\n",
       "        0.50574584, 0.3668188 , 0.08438976, 0.20785862],\n",
       "       [0.42809897, 0.43900167, 0.50905585, 0.40345989, 0.34281146,\n",
       "        0.34335823, 0.4806365 , 0.38474292, 0.53139831, 1.        ,\n",
       "        0.97114739, 0.62683882, 0.2327057 , 0.37387381],\n",
       "       [0.41968994, 0.42883671, 0.52534281, 0.4011524 , 0.36449859,\n",
       "        0.36397453, 0.46623406, 0.41589752, 0.50574584, 0.97114739,\n",
       "        1.        , 0.42294137, 0.23162025, 0.38493635],\n",
       "       [0.25546752, 0.26701091, 0.21789761, 0.22241079, 0.11171718,\n",
       "        0.11550693, 0.30302896, 0.10311714, 0.3668188 , 0.62683882,\n",
       "        0.42294137, 1.        , 0.12747915, 0.16297223],\n",
       "       [0.23933723, 0.20101739, 0.11688712, 0.19417689, 0.09352538,\n",
       "        0.0445589 , 0.08443922, 0.0100507 , 0.08438976, 0.2327057 ,\n",
       "        0.23162025, 0.12747915, 1.        , 0.09953132],\n",
       "       [0.15041924, 0.18564921, 0.10081957, 0.14881543, 0.06627658,\n",
       "        0.02334517, 0.0863236 , 0.23117818, 0.20785862, 0.37387381,\n",
       "        0.38493635, 0.16297223, 0.09953132, 1.        ]])"
      ]
     },
     "execution_count": 797,
     "metadata": {},
     "output_type": "execute_result"
    }
   ],
   "source": [
    "corr_matrix = np.corrcoef(XXX_std.T)\n",
    "corr_matrix"
   ]
  },
  {
   "cell_type": "code",
   "execution_count": 798,
   "metadata": {},
   "outputs": [
    {
     "name": "stdout",
     "output_type": "stream",
     "text": [
      "Valores propios \n",
      "[ 6.48949276e+00  1.77923546e+00  1.37012560e+00  1.00779391e+00\n",
      "  8.98447908e-01  6.86083557e-01  6.76277515e-02  1.22346905e-01\n",
      "  2.58758182e-01  5.22650551e-01  3.68996718e-01  4.28440693e-01\n",
      "  2.08458683e-16 -6.30454632e-16]\n",
      "Vectores propios \n",
      "[[-3.18622336e-01 -2.59336213e-01 -2.77725967e-01  8.16704665e-02\n",
      "   2.28640630e-02  1.85905955e-01  7.29023829e-01  2.33062070e-01\n",
      "  -2.31503165e-01  8.52680034e-02  2.41171346e-01  8.67025425e-02\n",
      "   1.39292374e-11 -6.07249754e-12]\n",
      " [-3.24461448e-01 -2.29705811e-01 -2.60076578e-01 -1.78143649e-02\n",
      "   7.02205790e-02  9.74887818e-02 -5.70337157e-01  3.71062305e-01\n",
      "  -5.18973994e-01 -3.43060836e-02 -1.49958763e-01 -5.99798899e-02\n",
      "   1.07724113e-10 -1.36408579e-11]\n",
      " [-3.49934619e-01 -1.26687407e-01  3.14716842e-01  1.07202922e-01\n",
      "  -9.05233620e-02  9.34454389e-02 -6.84904727e-02  7.14317117e-03\n",
      "   1.83453334e-01 -8.74531257e-02  4.44998625e-02  7.44735983e-02\n",
      "  -7.87134170e-02 -8.22072746e-01]\n",
      " [-3.20971011e-01 -2.83936092e-01 -2.16952145e-01  4.01547082e-02\n",
      "   1.65490129e-02  1.78332577e-01 -1.95445276e-01 -7.84282283e-01\n",
      "   4.83364785e-02  4.67412568e-02  2.24078760e-01  6.30459780e-02\n",
      "   1.46577711e-02  1.53083866e-01]\n",
      " [-3.18372319e-01 -3.22871479e-01  4.40325305e-02 -4.85807852e-02\n",
      "  -2.69293806e-02 -5.87695706e-03 -1.14275459e-01  3.65290559e-01\n",
      "   7.10822627e-01  5.93199700e-02 -4.97259901e-02  2.76613005e-02\n",
      "   3.45122323e-02  3.60441291e-01]\n",
      " [-1.71856336e-01  1.14337531e-01  5.67979541e-01  3.25378916e-01\n",
      "  -2.23830684e-01  4.44907899e-01  5.32010805e-02 -3.34370117e-02\n",
      "  -2.12202361e-01 -1.05474753e-01 -2.45351317e-01  1.90512519e-01\n",
      "   3.36396205e-02  3.51327845e-01]\n",
      " [-2.65297466e-01  8.41347485e-02  3.42854842e-01  2.88654896e-02\n",
      "   1.11302980e-01 -4.13438805e-01 -3.16959527e-02  5.00635850e-02\n",
      "  -1.46036630e-01 -4.02261943e-01  5.74626419e-01 -2.55869001e-01\n",
      "   1.87277675e-02  1.95590382e-01]\n",
      " [-2.39262878e-01 -1.93237138e-02  1.96468354e-01 -4.25331296e-01\n",
      "  -2.15602980e-01 -4.94696077e-01  4.80714635e-02 -7.84905174e-02\n",
      "  -2.01178838e-01  3.18041619e-01 -1.24473036e-01  5.13560234e-01\n",
      "   4.60781586e-03  4.81234328e-02]\n",
      " [-3.10642632e-01 -1.76196252e-02 -1.06870554e-02 -1.55001861e-01\n",
      "   2.19164336e-01 -1.89382490e-01  2.79317910e-01 -2.15678378e-01\n",
      "  -3.21347902e-04 -2.95224924e-01 -6.53808269e-01 -3.94960011e-01\n",
      "   8.53222780e-11  1.54734859e-11]\n",
      " [-2.88394758e-01  4.61134126e-01 -6.23662535e-02  3.08393170e-02\n",
      "   7.52830318e-02  6.14246541e-02 -3.10064437e-02  1.74225413e-02\n",
      "   5.66751870e-02  3.31538323e-01  4.38634421e-02 -1.43755141e-01\n",
      "  -7.40191811e-01  6.15025503e-02]\n",
      " [-2.84065213e-01  4.15457098e-01 -1.93913777e-02 -9.13016828e-03\n",
      "  -9.37034387e-02  7.08491912e-02 -2.42982599e-02  9.86575458e-03\n",
      "   2.97745792e-02  4.52034064e-01  6.05898874e-02 -3.37753889e-01\n",
      "   6.36445614e-01 -5.28822770e-02]\n",
      " [-1.67736556e-01  3.94821125e-01 -1.73619736e-01  1.47010290e-01\n",
      "   5.92196997e-01  1.92179422e-03 -3.84298076e-02  3.39678947e-02\n",
      "   1.18071866e-01 -2.17108626e-01 -3.12872271e-02  5.57261877e-01\n",
      "   1.94801775e-01 -1.61860829e-02]\n",
      " [-9.08209462e-02  1.13121077e-01 -3.55621672e-01  6.22972349e-01\n",
      "  -4.93974824e-01 -4.20935547e-01 -9.89908666e-03 -1.27669086e-02\n",
      "   5.72054989e-02 -1.32272726e-01 -1.29803120e-01  7.29219882e-02\n",
      "  -1.32214697e-11  2.71155657e-12]\n",
      " [-1.11604305e-01  3.22954500e-01 -2.59681117e-01 -5.05143231e-01\n",
      "  -4.68177643e-01  2.82698025e-01  3.26179173e-04  3.72546737e-02\n",
      "   8.75803933e-02 -4.87922435e-01  8.89387036e-02  8.05958236e-02\n",
      "  -2.12321688e-11 -1.51679811e-11]]\n"
     ]
    }
   ],
   "source": [
    "# Descomposicion de la matriz de correlaciones:\n",
    "eig_vals_corr, eig_vectors_corr = np.linalg.eig(corr_matrix)\n",
    "print(\"Valores propios \\n%s\"%eig_vals_corr)\n",
    "print(\"Vectores propios \\n%s\"%eig_vectors_corr)"
   ]
  },
  {
   "cell_type": "markdown",
   "metadata": {},
   "source": [
    "#### La matriz de correlaciones es la que se obtiene de la de covarianzas una vez que los datos estan estandarizadas"
   ]
  },
  {
   "cell_type": "markdown",
   "metadata": {},
   "source": [
    "### 4c) Descomposiciones del valor singular"
   ]
  },
  {
   "cell_type": "code",
   "execution_count": 799,
   "metadata": {},
   "outputs": [],
   "source": [
    "u, s, v = np.linalg.svd(XXX_std.T)"
   ]
  },
  {
   "cell_type": "code",
   "execution_count": 802,
   "metadata": {},
   "outputs": [
    {
     "data": {
      "text/plain": [
       "array([[ 0.05673258,  0.07687065,  0.06083183, ..., -0.16360287,\n",
       "        -0.125539  , -0.569789  ],\n",
       "       [-0.04311598, -0.0785809 , -0.04738593, ..., -0.16268953,\n",
       "        -0.11066476, -0.14613116],\n",
       "       [ 0.00493171,  0.02072771,  0.01379059, ...,  0.00631558,\n",
       "         0.12676507,  0.17207213],\n",
       "       ...,\n",
       "       [ 0.2571822 ,  0.26540099,  0.06049093, ...,  0.82866637,\n",
       "        -0.12721758,  0.02771087],\n",
       "       [ 0.28729346,  0.25036069, -0.12176248, ..., -0.12280757,\n",
       "         0.80921141, -0.01121666],\n",
       "       [ 0.51498851, -0.47910798,  0.01732494, ...,  0.02792805,\n",
       "        -0.0128568 ,  0.33883664]])"
      ]
     },
     "execution_count": 802,
     "metadata": {},
     "output_type": "execute_result"
    }
   ],
   "source": [
    "v"
   ]
  },
  {
   "cell_type": "markdown",
   "metadata": {},
   "source": [
    "### Selección de los componentes principales"
   ]
  },
  {
   "cell_type": "code",
   "execution_count": null,
   "metadata": {},
   "outputs": [],
   "source": []
  },
  {
   "cell_type": "code",
   "execution_count": null,
   "metadata": {},
   "outputs": [],
   "source": []
  },
  {
   "cell_type": "code",
   "execution_count": null,
   "metadata": {},
   "outputs": [],
   "source": []
  },
  {
   "cell_type": "code",
   "execution_count": null,
   "metadata": {},
   "outputs": [],
   "source": []
  },
  {
   "cell_type": "code",
   "execution_count": null,
   "metadata": {},
   "outputs": [],
   "source": []
  },
  {
   "cell_type": "code",
   "execution_count": null,
   "metadata": {},
   "outputs": [],
   "source": []
  },
  {
   "cell_type": "code",
   "execution_count": null,
   "metadata": {},
   "outputs": [],
   "source": []
  },
  {
   "cell_type": "code",
   "execution_count": null,
   "metadata": {},
   "outputs": [],
   "source": []
  },
  {
   "cell_type": "code",
   "execution_count": null,
   "metadata": {},
   "outputs": [],
   "source": []
  },
  {
   "cell_type": "code",
   "execution_count": null,
   "metadata": {},
   "outputs": [],
   "source": []
  },
  {
   "cell_type": "code",
   "execution_count": null,
   "metadata": {},
   "outputs": [],
   "source": []
  },
  {
   "cell_type": "code",
   "execution_count": null,
   "metadata": {},
   "outputs": [],
   "source": []
  },
  {
   "cell_type": "code",
   "execution_count": 776,
   "metadata": {
    "scrolled": true
   },
   "outputs": [
    {
     "data": {
      "text/html": [
       "<div>\n",
       "<style scoped>\n",
       "    .dataframe tbody tr th:only-of-type {\n",
       "        vertical-align: middle;\n",
       "    }\n",
       "\n",
       "    .dataframe tbody tr th {\n",
       "        vertical-align: top;\n",
       "    }\n",
       "\n",
       "    .dataframe thead th {\n",
       "        text-align: right;\n",
       "    }\n",
       "</style>\n",
       "<table border=\"1\" class=\"dataframe\">\n",
       "  <thead>\n",
       "    <tr style=\"text-align: right;\">\n",
       "      <th></th>\n",
       "      <th>REGION</th>\n",
       "      <th>UNIDAD TERRITORIAL</th>\n",
       "      <th>Rob_vio_o_int</th>\n",
       "      <th>Rob_sor</th>\n",
       "      <th>Rob_fuerza</th>\n",
       "      <th>Rob_vehi</th>\n",
       "    </tr>\n",
       "  </thead>\n",
       "  <tbody>\n",
       "    <tr>\n",
       "      <th>0</th>\n",
       "      <td>3</td>\n",
       "      <td>Alto del Carmen</td>\n",
       "      <td>0.0</td>\n",
       "      <td>0.0</td>\n",
       "      <td>231.238175</td>\n",
       "      <td>0.0</td>\n",
       "    </tr>\n",
       "    <tr>\n",
       "      <th>1</th>\n",
       "      <td>12</td>\n",
       "      <td>Ant rtica</td>\n",
       "      <td>0.0</td>\n",
       "      <td>0.0</td>\n",
       "      <td>0.000000</td>\n",
       "      <td>0.0</td>\n",
       "    </tr>\n",
       "    <tr>\n",
       "      <th>2</th>\n",
       "      <td>12</td>\n",
       "      <td>Cabo de Hornos</td>\n",
       "      <td>0.0</td>\n",
       "      <td>0.0</td>\n",
       "      <td>132.013201</td>\n",
       "      <td>0.0</td>\n",
       "    </tr>\n",
       "    <tr>\n",
       "      <th>3</th>\n",
       "      <td>15</td>\n",
       "      <td>Camarones</td>\n",
       "      <td>0.0</td>\n",
       "      <td>0.0</td>\n",
       "      <td>420.388860</td>\n",
       "      <td>0.0</td>\n",
       "    </tr>\n",
       "    <tr>\n",
       "      <th>4</th>\n",
       "      <td>1</td>\n",
       "      <td>Cami¤a</td>\n",
       "      <td>0.0</td>\n",
       "      <td>0.0</td>\n",
       "      <td>353.356890</td>\n",
       "      <td>0.0</td>\n",
       "    </tr>\n",
       "  </tbody>\n",
       "</table>\n",
       "</div>"
      ],
      "text/plain": [
       "   REGION UNIDAD TERRITORIAL  Rob_vio_o_int  Rob_sor  Rob_fuerza  Rob_vehi\n",
       "0       3    Alto del Carmen            0.0      0.0  231.238175       0.0\n",
       "1      12          Ant rtica            0.0      0.0    0.000000       0.0\n",
       "2      12     Cabo de Hornos            0.0      0.0  132.013201       0.0\n",
       "3      15          Camarones            0.0      0.0  420.388860       0.0\n",
       "4       1             Cami¤a            0.0      0.0  353.356890       0.0"
      ]
     },
     "execution_count": 776,
     "metadata": {},
     "output_type": "execute_result"
    }
   ],
   "source": [
    "df = pd.read_csv(\"C:/Users/usuario/Documents/GitHub_Personal/Bases_de_Datos_DS/dmcs1.csv\" , delimiter=\";\",encoding='latin1',decimal=\",\")\n",
    "XX_pca = df.iloc[:,0:6]\n",
    "XX_pca.head()"
   ]
  },
  {
   "cell_type": "code",
   "execution_count": 777,
   "metadata": {},
   "outputs": [
    {
     "data": {
      "text/html": [
       "<div>\n",
       "<style scoped>\n",
       "    .dataframe tbody tr th:only-of-type {\n",
       "        vertical-align: middle;\n",
       "    }\n",
       "\n",
       "    .dataframe tbody tr th {\n",
       "        vertical-align: top;\n",
       "    }\n",
       "\n",
       "    .dataframe thead th {\n",
       "        text-align: right;\n",
       "    }\n",
       "</style>\n",
       "<table border=\"1\" class=\"dataframe\">\n",
       "  <thead>\n",
       "    <tr style=\"text-align: right;\">\n",
       "      <th></th>\n",
       "      <th>REGION</th>\n",
       "      <th>UNIDAD TERRITORIAL</th>\n",
       "      <th>Rob_vio_o_int</th>\n",
       "      <th>Rob_sor</th>\n",
       "      <th>Rob_fuerza</th>\n",
       "      <th>Rob_vehi</th>\n",
       "      <th>PC1</th>\n",
       "      <th>PC2</th>\n",
       "      <th>PC3</th>\n",
       "      <th>PC4</th>\n",
       "    </tr>\n",
       "  </thead>\n",
       "  <tbody>\n",
       "    <tr>\n",
       "      <th>0</th>\n",
       "      <td>3</td>\n",
       "      <td>Alto del Carmen</td>\n",
       "      <td>0.0</td>\n",
       "      <td>0.0</td>\n",
       "      <td>231.238175</td>\n",
       "      <td>0.0</td>\n",
       "      <td>-654.114805</td>\n",
       "      <td>30.132588</td>\n",
       "      <td>14.022021</td>\n",
       "      <td>6.110601</td>\n",
       "    </tr>\n",
       "    <tr>\n",
       "      <th>1</th>\n",
       "      <td>12</td>\n",
       "      <td>Ant rtica</td>\n",
       "      <td>0.0</td>\n",
       "      <td>0.0</td>\n",
       "      <td>0.000000</td>\n",
       "      <td>0.0</td>\n",
       "      <td>-871.049725</td>\n",
       "      <td>109.851071</td>\n",
       "      <td>14.599266</td>\n",
       "      <td>13.524405</td>\n",
       "    </tr>\n",
       "    <tr>\n",
       "      <th>2</th>\n",
       "      <td>12</td>\n",
       "      <td>Cabo de Hornos</td>\n",
       "      <td>0.0</td>\n",
       "      <td>0.0</td>\n",
       "      <td>132.013201</td>\n",
       "      <td>0.0</td>\n",
       "      <td>-747.202210</td>\n",
       "      <td>64.340021</td>\n",
       "      <td>14.269718</td>\n",
       "      <td>9.291886</td>\n",
       "    </tr>\n",
       "    <tr>\n",
       "      <th>3</th>\n",
       "      <td>15</td>\n",
       "      <td>Camarones</td>\n",
       "      <td>0.0</td>\n",
       "      <td>0.0</td>\n",
       "      <td>420.388860</td>\n",
       "      <td>0.0</td>\n",
       "      <td>-476.664051</td>\n",
       "      <td>-35.076392</td>\n",
       "      <td>13.549840</td>\n",
       "      <td>0.046177</td>\n",
       "    </tr>\n",
       "    <tr>\n",
       "      <th>4</th>\n",
       "      <td>1</td>\n",
       "      <td>Cami¤a</td>\n",
       "      <td>0.0</td>\n",
       "      <td>0.0</td>\n",
       "      <td>353.356890</td>\n",
       "      <td>0.0</td>\n",
       "      <td>-539.549752</td>\n",
       "      <td>-11.967375</td>\n",
       "      <td>13.717173</td>\n",
       "      <td>2.195312</td>\n",
       "    </tr>\n",
       "  </tbody>\n",
       "</table>\n",
       "</div>"
      ],
      "text/plain": [
       "   REGION UNIDAD TERRITORIAL  Rob_vio_o_int  Rob_sor  Rob_fuerza  Rob_vehi  \\\n",
       "0       3    Alto del Carmen            0.0      0.0  231.238175       0.0   \n",
       "1      12          Ant rtica            0.0      0.0    0.000000       0.0   \n",
       "2      12     Cabo de Hornos            0.0      0.0  132.013201       0.0   \n",
       "3      15          Camarones            0.0      0.0  420.388860       0.0   \n",
       "4       1             Cami¤a            0.0      0.0  353.356890       0.0   \n",
       "\n",
       "          PC1         PC2        PC3        PC4  \n",
       "0 -654.114805   30.132588  14.022021   6.110601  \n",
       "1 -871.049725  109.851071  14.599266  13.524405  \n",
       "2 -747.202210   64.340021  14.269718   9.291886  \n",
       "3 -476.664051  -35.076392  13.549840   0.046177  \n",
       "4 -539.549752  -11.967375  13.717173   2.195312  "
      ]
     },
     "metadata": {},
     "output_type": "display_data"
    }
   ],
   "source": [
    "from sklearn.decomposition import PCA\n",
    "import seaborn as sns\n",
    "import numpy as np\n",
    "import matplotlib.pyplot as plt\n",
    "\n",
    "n_components = 4\n",
    "\n",
    "# Realizamos el PCA.\n",
    "pca = PCA(n_components = n_components)\n",
    "reduced = pca.fit_transform(XX_pca[['Rob_vio_o_int', 'Rob_sor',\n",
    "                                'Rob_fuerza', 'Rob_vehi']])\n",
    "\n",
    "# Anadimos el componente principal para cada observacion del dataframe\n",
    "for i in range(0, n_components):\n",
    "    XX_pca['PC' + str(i + 1)] = reduced[:, i]\n",
    "\n",
    "display(XX_pca.head())"
   ]
  },
  {
   "cell_type": "code",
   "execution_count": 778,
   "metadata": {},
   "outputs": [
    {
     "data": {
      "image/png": "[encoded data removed]",
      "text/plain": [
       "<Figure size 576x432 with 1 Axes>"
      ]
     },
     "metadata": {
      "needs_background": "light"
     },
     "output_type": "display_data"
    }
   ],
   "source": [
    "# Do a scree plot\n",
    "ind = np.arange(0, n_components)\n",
    "(fig, ax) = plt.subplots(figsize=(8, 6))\n",
    "sns.pointplot(x=ind, y=pca.explained_variance_ratio_)\n",
    "ax.set_title('Scree plot')\n",
    "ax.set_xticks(ind)\n",
    "ax.set_xticklabels(ind)\n",
    "ax.set_xlabel('Component Number')\n",
    "ax.set_ylabel('Explained Variance')\n",
    "plt.show()"
   ]
  },
  {
   "cell_type": "code",
   "execution_count": 781,
   "metadata": {},
   "outputs": [
    {
     "data": {
      "image/png": "[encoded data removed]",
      "text/plain": [
       "<Figure size 768.75x720 with 1 Axes>"
      ]
     },
     "metadata": {
      "needs_background": "light"
     },
     "output_type": "display_data"
    }
   ],
   "source": [
    "# Show the points in terms of the first two PCs\n",
    "g = sns.lmplot('PC1',\n",
    "               'PC2',\n",
    "               hue='REGION',data=XX_pca,\n",
    "               fit_reg=True,\n",
    "               scatter=True,\n",
    "               height=10)\n",
    "\n",
    "plt.show()"
   ]
  },
  {
   "cell_type": "code",
   "execution_count": 780,
   "metadata": {},
   "outputs": [
    {
     "data": {
      "image/png": "[encoded data removed]",
      "text/plain": [
       "<Figure size 864x864 with 1 Axes>"
      ]
     },
     "metadata": {
      "needs_background": "light"
     },
     "output_type": "display_data"
    }
   ],
   "source": [
    "# Plot a variable factor map for the first two dimensions.\n",
    "(fig, ax) = plt.subplots(figsize=(12, 12))\n",
    "for i in range(0, len(pca.components_)):\n",
    "    ax.arrow(0,\n",
    "             0,  # Start the arrow at the origin\n",
    "             pca.components_[0, i],  #0 for PC1\n",
    "             pca.components_[1, i],  #1 for PC2\n",
    "             head_width=0.1,\n",
    "             head_length=0.1)\n",
    "\n",
    "plt.text(pca.components_[0, i] + 0.05,\n",
    "         pca.components_[1, i] + 0.05,\n",
    "         df.columns.values[i])\n",
    "\n",
    "an = np.linspace(0, 2 * np.pi, 100)\n",
    "plt.plot(np.cos(an), np.sin(an))  # Add a unit circle for scale\n",
    "plt.axis('equal')\n",
    "ax.set_title('Variable factor map')\n",
    "plt.show()"
   ]
  },
  {
   "cell_type": "code",
   "execution_count": null,
   "metadata": {},
   "outputs": [],
   "source": []
  },
  {
   "cell_type": "code",
   "execution_count": null,
   "metadata": {},
   "outputs": [],
   "source": []
  },
  {
   "cell_type": "code",
   "execution_count": null,
   "metadata": {},
   "outputs": [],
   "source": []
  },
  {
   "cell_type": "code",
   "execution_count": null,
   "metadata": {},
   "outputs": [],
   "source": []
  }
 ],
 "metadata": {
  "kernelspec": {
   "display_name": "Python 3",
   "language": "python",
   "name": "python3"
  },
  "language_info": {
   "codemirror_mode": {
    "name": "ipython",
    "version": 3
   },
   "file_extension": ".py",
   "mimetype": "text/x-python",
   "name": "python",
   "nbconvert_exporter": "python",
   "pygments_lexer": "ipython3",
   "version": "3.7.6"
  }
 },
 "nbformat": 4,
 "nbformat_minor": 4
}
