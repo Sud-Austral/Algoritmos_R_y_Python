{
 "cells": [
  {
   "cell_type": "markdown",
   "metadata": {},
   "source": [
    "# Análisis de componentes principales para el estudio del delito en Chile. Medium."
   ]
  },
  {
   "cell_type": "markdown",
   "metadata": {},
   "source": [
    "## Histogramas"
   ]
  },
  {
   "cell_type": "markdown",
   "metadata": {},
   "source": [
    "Introducidos por Karl Pearson, un histograma es la representación precisa de la distribución de datos numéricos, que es una estimación de la distribución de probabilidad de una variable continua (CORAL). Parece similar al gráfico de barras, pero un gráfico de barras relaciona dos variables, mientras que un histograma relaciona solo una.\n",
    "\n",
    "Un histograma requiere de un contenedor que divida el rango completo de valores en una serie de intervalos, y luego cuenta cuántos valores caen en cada uno. Los contenedores generalmente se especifican como intervalos consecutivos, no superpuestos de una variable. Los contenedores deben ser adyacentes y, a menudo, son del mismo tamaño. Se levanta un rectángulo sobre el contenedor con una altura proporcional a la frecuencia: el número de casos en cada contenedor.\n",
    "\n",
    "La función go.Histogram( ) devuelve el objeto de rastreo de histograma. Su personalización se realiza mediante varios argumentos o atributos. Un argumento esencial es x o y establecido en una lista, un numpy array o un objeto DataFrame Pandas que se distribuirá en contenedores.\n",
    "\n",
    "Por defecto, Plotly distribuye los puntos de datos en contenedores de tamaño automático. Sin embargo, puedes definir un tamaño de contenedor personalizado. Para ello necesitas establecer autobins en falso, especificar4 nbins (número de bins), sus valores y tamaño de inicio y fin."
   ]
  },
  {
   "cell_type": "code",
   "execution_count": 581,
   "metadata": {},
   "outputs": [],
   "source": [
    "import pandas as pd\n",
    "import plotly.graph_objects as go\n",
    "import numpy as np"
   ]
  },
  {
   "cell_type": "code",
   "execution_count": 582,
   "metadata": {},
   "outputs": [],
   "source": [
    "df = pd.read_csv(\"C:/Users/usuario/Documents/GitHub_Personal/Bases_de_Datos_DS/dmcs1.csv\" , delimiter=\";\",encoding='latin1',decimal=\",\")"
   ]
  },
  {
   "cell_type": "code",
   "execution_count": 583,
   "metadata": {
    "scrolled": false
   },
   "outputs": [
    {
     "data": {
      "text/html": [
       "<div>\n",
       "<style scoped>\n",
       "    .dataframe tbody tr th:only-of-type {\n",
       "        vertical-align: middle;\n",
       "    }\n",
       "\n",
       "    .dataframe tbody tr th {\n",
       "        vertical-align: top;\n",
       "    }\n",
       "\n",
       "    .dataframe thead th {\n",
       "        text-align: right;\n",
       "    }\n",
       "</style>\n",
       "<table border=\"1\" class=\"dataframe\">\n",
       "  <thead>\n",
       "    <tr style=\"text-align: right;\">\n",
       "      <th></th>\n",
       "      <th>REGION</th>\n",
       "      <th>UNIDAD TERRITORIAL</th>\n",
       "      <th>Rob_vio_o_int</th>\n",
       "      <th>Rob_sor</th>\n",
       "      <th>Rob_fuerza</th>\n",
       "      <th>Rob_vehi</th>\n",
       "      <th>Rob_acc_vehi</th>\n",
       "      <th>Robo_lug_habi</th>\n",
       "      <th>Robo_lug_no_habi</th>\n",
       "      <th>Otros_rob_fuerza</th>\n",
       "      <th>Hurtos</th>\n",
       "      <th>Lesiones</th>\n",
       "      <th>Lesiones_leves</th>\n",
       "      <th>Lesiones_graves</th>\n",
       "      <th>Homicidio</th>\n",
       "      <th>Violacion</th>\n",
       "    </tr>\n",
       "  </thead>\n",
       "  <tbody>\n",
       "    <tr>\n",
       "      <th>0</th>\n",
       "      <td>3</td>\n",
       "      <td>Alto del Carmen</td>\n",
       "      <td>0.0</td>\n",
       "      <td>0.0</td>\n",
       "      <td>231.238175</td>\n",
       "      <td>0.0</td>\n",
       "      <td>0.000000</td>\n",
       "      <td>84.086609</td>\n",
       "      <td>147.151566</td>\n",
       "      <td>0.00000</td>\n",
       "      <td>147.151566</td>\n",
       "      <td>105.108261</td>\n",
       "      <td>63.064957</td>\n",
       "      <td>42.043305</td>\n",
       "      <td>0.0</td>\n",
       "      <td>0.000000</td>\n",
       "    </tr>\n",
       "    <tr>\n",
       "      <th>1</th>\n",
       "      <td>12</td>\n",
       "      <td>Ant rtica</td>\n",
       "      <td>0.0</td>\n",
       "      <td>0.0</td>\n",
       "      <td>0.000000</td>\n",
       "      <td>0.0</td>\n",
       "      <td>0.000000</td>\n",
       "      <td>0.000000</td>\n",
       "      <td>0.000000</td>\n",
       "      <td>0.00000</td>\n",
       "      <td>0.000000</td>\n",
       "      <td>0.000000</td>\n",
       "      <td>0.000000</td>\n",
       "      <td>0.000000</td>\n",
       "      <td>0.0</td>\n",
       "      <td>0.000000</td>\n",
       "    </tr>\n",
       "    <tr>\n",
       "      <th>2</th>\n",
       "      <td>12</td>\n",
       "      <td>Cabo de Hornos</td>\n",
       "      <td>0.0</td>\n",
       "      <td>0.0</td>\n",
       "      <td>132.013201</td>\n",
       "      <td>0.0</td>\n",
       "      <td>0.000000</td>\n",
       "      <td>0.000000</td>\n",
       "      <td>132.013201</td>\n",
       "      <td>0.00000</td>\n",
       "      <td>99.009901</td>\n",
       "      <td>99.009901</td>\n",
       "      <td>66.006601</td>\n",
       "      <td>33.003300</td>\n",
       "      <td>0.0</td>\n",
       "      <td>0.000000</td>\n",
       "    </tr>\n",
       "    <tr>\n",
       "      <th>3</th>\n",
       "      <td>15</td>\n",
       "      <td>Camarones</td>\n",
       "      <td>0.0</td>\n",
       "      <td>0.0</td>\n",
       "      <td>420.388860</td>\n",
       "      <td>0.0</td>\n",
       "      <td>52.548607</td>\n",
       "      <td>210.194430</td>\n",
       "      <td>157.645822</td>\n",
       "      <td>0.00000</td>\n",
       "      <td>367.840252</td>\n",
       "      <td>262.743037</td>\n",
       "      <td>262.743037</td>\n",
       "      <td>0.000000</td>\n",
       "      <td>0.0</td>\n",
       "      <td>52.548607</td>\n",
       "    </tr>\n",
       "    <tr>\n",
       "      <th>4</th>\n",
       "      <td>1</td>\n",
       "      <td>Cami¤a</td>\n",
       "      <td>0.0</td>\n",
       "      <td>0.0</td>\n",
       "      <td>353.356890</td>\n",
       "      <td>0.0</td>\n",
       "      <td>0.000000</td>\n",
       "      <td>117.785630</td>\n",
       "      <td>117.785630</td>\n",
       "      <td>117.78563</td>\n",
       "      <td>117.785630</td>\n",
       "      <td>824.499411</td>\n",
       "      <td>706.713781</td>\n",
       "      <td>117.785630</td>\n",
       "      <td>0.0</td>\n",
       "      <td>0.000000</td>\n",
       "    </tr>\n",
       "  </tbody>\n",
       "</table>\n",
       "</div>"
      ],
      "text/plain": [
       "   REGION UNIDAD TERRITORIAL  Rob_vio_o_int  Rob_sor  Rob_fuerza  Rob_vehi  \\\n",
       "0       3    Alto del Carmen            0.0      0.0  231.238175       0.0   \n",
       "1      12          Ant rtica            0.0      0.0    0.000000       0.0   \n",
       "2      12     Cabo de Hornos            0.0      0.0  132.013201       0.0   \n",
       "3      15          Camarones            0.0      0.0  420.388860       0.0   \n",
       "4       1             Cami¤a            0.0      0.0  353.356890       0.0   \n",
       "\n",
       "   Rob_acc_vehi  Robo_lug_habi  Robo_lug_no_habi  Otros_rob_fuerza  \\\n",
       "0      0.000000      84.086609        147.151566           0.00000   \n",
       "1      0.000000       0.000000          0.000000           0.00000   \n",
       "2      0.000000       0.000000        132.013201           0.00000   \n",
       "3     52.548607     210.194430        157.645822           0.00000   \n",
       "4      0.000000     117.785630        117.785630         117.78563   \n",
       "\n",
       "       Hurtos    Lesiones  Lesiones_leves  Lesiones_graves  Homicidio  \\\n",
       "0  147.151566  105.108261       63.064957        42.043305        0.0   \n",
       "1    0.000000    0.000000        0.000000         0.000000        0.0   \n",
       "2   99.009901   99.009901       66.006601        33.003300        0.0   \n",
       "3  367.840252  262.743037      262.743037         0.000000        0.0   \n",
       "4  117.785630  824.499411      706.713781       117.785630        0.0   \n",
       "\n",
       "   Violacion  \n",
       "0   0.000000  \n",
       "1   0.000000  \n",
       "2   0.000000  \n",
       "3  52.548607  \n",
       "4   0.000000  "
      ]
     },
     "execution_count": 583,
     "metadata": {},
     "output_type": "execute_result"
    }
   ],
   "source": [
    "df.head(5)"
   ]
  },
  {
   "cell_type": "markdown",
   "metadata": {},
   "source": [
    "Robo con violencia o intimidación:  Consiste en la apropiación de una cosa mueble ajena, efectuada sin la voluntad de su dueño y con ánimo de lucro, ejerciendo el autor fuerza física o moral sobre una persona.\n",
    "\n",
    "Robo por sorpresa: Se trata de una figura intermedia entre el hurto y el robo, porque en su comisión no se emplea la violencia propia del delito de robo con violencia o intimidación, pero tampoco se actúa en la clandestinidad normalmente inherente al hurto. Es lo que se conoce como el “lanzazo”. Ocurre cuando los autores actúan por sorpresa, aparentando riñas o montando maniobras para causar confusión en lugares públicos."
   ]
  },
  {
   "cell_type": "code",
   "execution_count": 584,
   "metadata": {},
   "outputs": [
    {
     "data": {
      "text/plain": [
       "0         0.000000\n",
       "1         0.000000\n",
       "2         0.000000\n",
       "3         0.000000\n",
       "4         0.000000\n",
       "          ...     \n",
       "341    1257.437970\n",
       "342    1335.613356\n",
       "343    1453.901251\n",
       "344    1641.376497\n",
       "345    2790.062525\n",
       "Name: Rob_vio_o_int, Length: 346, dtype: float64"
      ]
     },
     "execution_count": 584,
     "metadata": {},
     "output_type": "execute_result"
    }
   ],
   "source": [
    "df['Rob_vio_o_int']"
   ]
  },
  {
   "cell_type": "code",
   "execution_count": 626,
   "metadata": {
    "scrolled": true
   },
   "outputs": [
    {
     "data": {
      "text/html": [
       "\n",
       "        <iframe\n",
       "            width=\"700px\"\n",
       "            height=\"600px\"\n",
       "            src=\"https://plotly.com/~ChrisDI/160.embed\"\n",
       "            frameborder=\"0\"\n",
       "            allowfullscreen\n",
       "        ></iframe>\n",
       "        "
      ],
      "text/plain": [
       "<IPython.lib.display.IFrame at 0x2b6fb4eeb88>"
      ]
     },
     "execution_count": 626,
     "metadata": {},
     "output_type": "execute_result"
    }
   ],
   "source": [
    "\n",
    "trace1 = go.Histogram(\n",
    "    x = df['Rob_vio_o_int'],   \n",
    "    # histnorm = 'percent')\n",
    "    histnorm = 'probability',\n",
    "    opacity = 0.55,\n",
    "    name = 'Robos con violencia o intimidacion',\n",
    "    nbinsx=40)              \n",
    "                      \n",
    "trace2 = go.Histogram(\n",
    "    x = df['Rob_sor'],   \n",
    "    # histnorm = 'percent')\n",
    "    histnorm = 'probability',\n",
    "    opacity = 0.55,\n",
    "    name = 'Robos por sorpresa',\n",
    "    nbinsx=40,\n",
    "\n",
    "    yaxis = 'y2')\n",
    "\n",
    "data = [trace1, trace2]\n",
    "\n",
    "layout = go.Layout(\n",
    "    title='Distribución de la probabilidad de los delitos por comuna',\n",
    "    barmode='overlay',\n",
    "    xaxis=dict(\n",
    "    title='tasa'\n",
    "    ),\n",
    "    yaxis=dict(\n",
    "        title='Probabilidad de robos con violencia o intimidación'\n",
    "    ),\n",
    "    yaxis2=dict(\n",
    "        title='Probabilidad de robos por sorpresa',\n",
    "        anchor='free',\n",
    "        overlaying='y',\n",
    "        side='right',\n",
    "        position=1\n",
    "    ),\n",
    "    height=600, width=700\n",
    ") \n",
    "\n",
    "fig = go.Figure(data=data, layout=layout)\n",
    "py.iplot(fig)"
   ]
  },
  {
   "cell_type": "markdown",
   "metadata": {},
   "source": [
    "### Estandarización"
   ]
  },
  {
   "cell_type": "code",
   "execution_count": 594,
   "metadata": {},
   "outputs": [],
   "source": [
    "from sklearn.preprocessing import StandardScaler"
   ]
  },
  {
   "cell_type": "code",
   "execution_count": 640,
   "metadata": {},
   "outputs": [],
   "source": [
    "Rob_vio_o_int = df['Rob_vio_o_int'].values.reshape(-1, 1)\n",
    "X_std = StandardScaler().fit_transform(Rob_vio_o_int)\n",
    "\n",
    "Rob_sor = df['Rob_sor'].values.reshape(-1, 1)\n",
    "Y_std = StandardScaler().fit_transform(Rob_sor)\n"
   ]
  },
  {
   "cell_type": "code",
   "execution_count": null,
   "metadata": {},
   "outputs": [],
   "source": []
  },
  {
   "cell_type": "markdown",
   "metadata": {},
   "source": [
    "### Valores y vectores propios de la matriz de covarianzas"
   ]
  },
  {
   "cell_type": "code",
   "execution_count": 649,
   "metadata": {},
   "outputs": [],
   "source": [
    "from IPython.display import display, Math, Latex"
   ]
  },
  {
   "cell_type": "code",
   "execution_count": 651,
   "metadata": {},
   "outputs": [
    {
     "data": {
      "text/latex": [
       "$\\displaystyle \\sigma_{jk}$"
      ],
      "text/plain": [
       "<IPython.core.display.Math object>"
      ]
     },
     "metadata": {},
     "output_type": "display_data"
    }
   ],
   "source": [
    "display(Math(r'\\sigma_{jk}'))"
   ]
  },
  {
   "cell_type": "code",
   "execution_count": 653,
   "metadata": {},
   "outputs": [
    {
     "data": {
      "text/plain": [
       "array([4.10718344e-17])"
      ]
     },
     "execution_count": 653,
     "metadata": {},
     "output_type": "execute_result"
    }
   ],
   "source": [
    "mean_vect = np.mean(X_std, axis = 0)\n",
    "mean_vect"
   ]
  },
  {
   "cell_type": "code",
   "execution_count": 668,
   "metadata": {},
   "outputs": [
    {
     "data": {
      "text/plain": [
       "array([[-0.59205174, -0.47772132, -0.87329994, ..., -0.52716388,\n",
       "        -0.35003877, -0.9448288 ],\n",
       "       [-0.59205174, -0.47772132, -1.19678041, ..., -1.45300438,\n",
       "        -0.35003877, -0.9448288 ],\n",
       "       [-0.59205174, -0.47772132, -1.01210635, ..., -0.72623487,\n",
       "        -0.35003877, -0.9448288 ],\n",
       "       ...,\n",
       "       [ 4.72703242,  1.90834892,  3.59948094, ..., -0.17503371,\n",
       "         0.09043172, -0.19846676],\n",
       "       [ 5.41290886,  2.63127889,  1.6239929 , ..., -0.20901018,\n",
       "         1.91286132, -0.06839311],\n",
       "       [ 9.61536597, 12.82841662,  7.6808065 , ...,  3.47748357,\n",
       "         1.64921029,  3.02357123]])"
      ]
     },
     "execution_count": 668,
     "metadata": {},
     "output_type": "execute_result"
    }
   ],
   "source": [
    "XX = df.iloc[:,2:16].values\n",
    "XXX_std = StandardScaler().fit_transform(XX)\n",
    "XXX_std"
   ]
  },
  {
   "cell_type": "code",
   "execution_count": 672,
   "metadata": {},
   "outputs": [
    {
     "data": {
      "text/plain": [
       "array([[1.00289855, 0.88726619, 0.67174996, 0.89569005, 0.74883205,\n",
       "        0.16077972, 0.36457155, 0.36174833, 0.54530548, 0.42933983,\n",
       "        0.42090644, 0.256208  , 0.24003096, 0.15085524],\n",
       "       [0.88726619, 1.00289855, 0.65247305, 0.83443403, 0.71398555,\n",
       "        0.15848785, 0.38711711, 0.41340505, 0.70216694, 0.44027414,\n",
       "        0.43007971, 0.26778486, 0.20160005, 0.18618732],\n",
       "       [0.67174996, 0.65247305, 1.00289855, 0.72192447, 0.84571054,\n",
       "        0.68980662, 0.71387785, 0.56387628, 0.64862178, 0.51053137,\n",
       "        0.52686554, 0.2185292 , 0.11722592, 0.1011118 ],\n",
       "       [0.89569005, 0.83443403, 0.72192447, 1.00289855, 0.78579275,\n",
       "        0.17829465, 0.38609732, 0.38563118, 0.57967705, 0.40462934,\n",
       "        0.40231516, 0.22305546, 0.19473972, 0.14924678],\n",
       "       [0.74883205, 0.71398555, 0.84571054, 0.78579275, 1.00289855,\n",
       "        0.27469006, 0.46896683, 0.52418702, 0.64250066, 0.34380511,\n",
       "        0.36555511, 0.112041  , 0.09379647, 0.06646868],\n",
       "       [0.16077972, 0.15848785, 0.68980662, 0.17829465, 0.27469006,\n",
       "        1.00289855, 0.39880479, 0.21650534, 0.22762836, 0.34435347,\n",
       "        0.36502953, 0.11584173, 0.04468805, 0.02341284],\n",
       "       [0.36457155, 0.38711711, 0.71387785, 0.38609732, 0.46896683,\n",
       "        0.39880479, 1.00289855, 0.46652338, 0.56474547, 0.48202965,\n",
       "        0.46758547, 0.3039073 , 0.08468397, 0.08657381],\n",
       "       [0.36174833, 0.41340505, 0.56387628, 0.38563118, 0.52418702,\n",
       "        0.21650534, 0.46652338, 1.00289855, 0.46672382, 0.38585812,\n",
       "        0.41710302, 0.10341603, 0.01007983, 0.23184826],\n",
       "       [0.54530548, 0.70216694, 0.64862178, 0.57967705, 0.64250066,\n",
       "        0.22762836, 0.56474547, 0.46672382, 1.00289855, 0.53293859,\n",
       "        0.50721177, 0.36788205, 0.08463436, 0.20846111],\n",
       "       [0.42933983, 0.44027414, 0.51053137, 0.40462934, 0.34380511,\n",
       "        0.34435347, 0.48202965, 0.38585812, 0.53293859, 1.00289855,\n",
       "        0.97396231, 0.62865574, 0.23338021, 0.3749575 ],\n",
       "       [0.42090644, 0.43007971, 0.52686554, 0.40231516, 0.36555511,\n",
       "        0.36502953, 0.46758547, 0.41710302, 0.50721177, 0.97396231,\n",
       "        1.00289855, 0.42416729, 0.23229161, 0.38605211],\n",
       "       [0.256208  , 0.26778486, 0.2185292 , 0.22305546, 0.112041  ,\n",
       "        0.11584173, 0.3039073 , 0.10341603, 0.36788205, 0.62865574,\n",
       "        0.42416729, 1.00289855, 0.12784865, 0.16344461],\n",
       "       [0.24003096, 0.20160005, 0.11722592, 0.19473972, 0.09379647,\n",
       "        0.04468805, 0.08468397, 0.01007983, 0.08463436, 0.23338021,\n",
       "        0.23229161, 0.12784865, 1.00289855, 0.09981982],\n",
       "       [0.15085524, 0.18618732, 0.1011118 , 0.14924678, 0.06646868,\n",
       "        0.02341284, 0.08657381, 0.23184826, 0.20846111, 0.3749575 ,\n",
       "        0.38605211, 0.16344461, 0.09981982, 1.00289855]])"
      ]
     },
     "execution_count": 672,
     "metadata": {},
     "output_type": "execute_result"
    }
   ],
   "source": [
    "cov_matrix = (XXX_std - mean_vect).T.dot((XXX_std - mean_vect))/(XXX_std.shape[0]-1)\n",
    "cov_matrix"
   ]
  },
  {
   "cell_type": "code",
   "execution_count": 673,
   "metadata": {},
   "outputs": [
    {
     "data": {
      "text/plain": [
       "array([[1.00289855, 0.88726619, 0.67174996, 0.89569005, 0.74883205,\n",
       "        0.16077972, 0.36457155, 0.36174833, 0.54530548, 0.42933983,\n",
       "        0.42090644, 0.256208  , 0.24003096, 0.15085524],\n",
       "       [0.88726619, 1.00289855, 0.65247305, 0.83443403, 0.71398555,\n",
       "        0.15848785, 0.38711711, 0.41340505, 0.70216694, 0.44027414,\n",
       "        0.43007971, 0.26778486, 0.20160005, 0.18618732],\n",
       "       [0.67174996, 0.65247305, 1.00289855, 0.72192447, 0.84571054,\n",
       "        0.68980662, 0.71387785, 0.56387628, 0.64862178, 0.51053137,\n",
       "        0.52686554, 0.2185292 , 0.11722592, 0.1011118 ],\n",
       "       [0.89569005, 0.83443403, 0.72192447, 1.00289855, 0.78579275,\n",
       "        0.17829465, 0.38609732, 0.38563118, 0.57967705, 0.40462934,\n",
       "        0.40231516, 0.22305546, 0.19473972, 0.14924678],\n",
       "       [0.74883205, 0.71398555, 0.84571054, 0.78579275, 1.00289855,\n",
       "        0.27469006, 0.46896683, 0.52418702, 0.64250066, 0.34380511,\n",
       "        0.36555511, 0.112041  , 0.09379647, 0.06646868],\n",
       "       [0.16077972, 0.15848785, 0.68980662, 0.17829465, 0.27469006,\n",
       "        1.00289855, 0.39880479, 0.21650534, 0.22762836, 0.34435347,\n",
       "        0.36502953, 0.11584173, 0.04468805, 0.02341284],\n",
       "       [0.36457155, 0.38711711, 0.71387785, 0.38609732, 0.46896683,\n",
       "        0.39880479, 1.00289855, 0.46652338, 0.56474547, 0.48202965,\n",
       "        0.46758547, 0.3039073 , 0.08468397, 0.08657381],\n",
       "       [0.36174833, 0.41340505, 0.56387628, 0.38563118, 0.52418702,\n",
       "        0.21650534, 0.46652338, 1.00289855, 0.46672382, 0.38585812,\n",
       "        0.41710302, 0.10341603, 0.01007983, 0.23184826],\n",
       "       [0.54530548, 0.70216694, 0.64862178, 0.57967705, 0.64250066,\n",
       "        0.22762836, 0.56474547, 0.46672382, 1.00289855, 0.53293859,\n",
       "        0.50721177, 0.36788205, 0.08463436, 0.20846111],\n",
       "       [0.42933983, 0.44027414, 0.51053137, 0.40462934, 0.34380511,\n",
       "        0.34435347, 0.48202965, 0.38585812, 0.53293859, 1.00289855,\n",
       "        0.97396231, 0.62865574, 0.23338021, 0.3749575 ],\n",
       "       [0.42090644, 0.43007971, 0.52686554, 0.40231516, 0.36555511,\n",
       "        0.36502953, 0.46758547, 0.41710302, 0.50721177, 0.97396231,\n",
       "        1.00289855, 0.42416729, 0.23229161, 0.38605211],\n",
       "       [0.256208  , 0.26778486, 0.2185292 , 0.22305546, 0.112041  ,\n",
       "        0.11584173, 0.3039073 , 0.10341603, 0.36788205, 0.62865574,\n",
       "        0.42416729, 1.00289855, 0.12784865, 0.16344461],\n",
       "       [0.24003096, 0.20160005, 0.11722592, 0.19473972, 0.09379647,\n",
       "        0.04468805, 0.08468397, 0.01007983, 0.08463436, 0.23338021,\n",
       "        0.23229161, 0.12784865, 1.00289855, 0.09981982],\n",
       "       [0.15085524, 0.18618732, 0.1011118 , 0.14924678, 0.06646868,\n",
       "        0.02341284, 0.08657381, 0.23184826, 0.20846111, 0.3749575 ,\n",
       "        0.38605211, 0.16344461, 0.09981982, 1.00289855]])"
      ]
     },
     "execution_count": 673,
     "metadata": {},
     "output_type": "execute_result"
    }
   ],
   "source": [
    "np.cov(XXX_std.T)"
   ]
  },
  {
   "cell_type": "code",
   "execution_count": 674,
   "metadata": {},
   "outputs": [
    {
     "name": "stdout",
     "output_type": "stream",
     "text": [
      "Valores propios \n",
      "[ 6.50830289e+00  1.78439266e+00  1.37409698e+00  1.01071505e+00\n",
      "  9.01052105e-01  6.88072205e-01  6.78237740e-02  1.22701533e-01\n",
      "  2.59508206e-01  5.24165480e-01  3.70066274e-01  4.29682550e-01\n",
      "  2.05157524e-16 -5.02577277e-16]\n",
      "Vectores propios \n",
      "[[-3.18622336e-01 -2.59336213e-01 -2.77725967e-01  8.16704665e-02\n",
      "   2.28640630e-02  1.85905955e-01  7.29023829e-01  2.33062070e-01\n",
      "  -2.31503165e-01  8.52680034e-02  2.41171346e-01  8.67025425e-02\n",
      "   1.44402979e-11 -6.12515264e-12]\n",
      " [-3.24461448e-01 -2.29705811e-01 -2.60076578e-01 -1.78143649e-02\n",
      "   7.02205790e-02  9.74887818e-02 -5.70337157e-01  3.71062305e-01\n",
      "  -5.18973994e-01 -3.43060836e-02 -1.49958763e-01 -5.99798899e-02\n",
      "   1.08645318e-10 -1.40404737e-11]\n",
      " [-3.49934619e-01 -1.26687407e-01  3.14716842e-01  1.07202922e-01\n",
      "  -9.05233620e-02  9.34454389e-02 -6.84904727e-02  7.14317117e-03\n",
      "   1.83453334e-01 -8.74531257e-02  4.44998625e-02  7.44735983e-02\n",
      "  -3.56445262e-03 -8.21813775e-01]\n",
      " [-3.20971011e-01 -2.83936092e-01 -2.16952145e-01  4.01547082e-02\n",
      "   1.65490129e-02  1.78332577e-01 -1.95445276e-01 -7.84282283e-01\n",
      "   4.83364785e-02  4.67412568e-02  2.24078760e-01  6.30459780e-02\n",
      "   6.63761431e-04  1.53035641e-01]\n",
      " [-3.18372319e-01 -3.22871479e-01  4.40325305e-02 -4.85807852e-02\n",
      "  -2.69293806e-02 -5.87695706e-03 -1.14275459e-01  3.65290559e-01\n",
      "   7.10822627e-01  5.93199700e-02 -4.97259901e-02  2.76613005e-02\n",
      "   1.56284935e-03  3.60327744e-01]\n",
      " [-1.71856336e-01  1.14337531e-01  5.67979541e-01  3.25378916e-01\n",
      "  -2.23830684e-01  4.44907899e-01  5.32010805e-02 -3.34370117e-02\n",
      "  -2.12202361e-01 -1.05474753e-01 -2.45351317e-01  1.90512519e-01\n",
      "   1.52333412e-03  3.51217169e-01]\n",
      " [-2.65297466e-01  8.41347485e-02  3.42854842e-01  2.88654896e-02\n",
      "   1.11302980e-01 -4.13438805e-01 -3.16959527e-02  5.00635850e-02\n",
      "  -1.46036630e-01 -4.02261943e-01  5.74626419e-01 -2.55869001e-01\n",
      "   8.48066835e-04  1.95528766e-01]\n",
      " [-2.39262878e-01 -1.93237138e-02  1.96468354e-01 -4.25331296e-01\n",
      "  -2.15602980e-01 -4.94696077e-01  4.80714635e-02 -7.84905174e-02\n",
      "  -2.01178838e-01  3.18041619e-01 -1.24473036e-01  5.13560234e-01\n",
      "   2.08660003e-04  4.81082729e-02]\n",
      " [-3.10642632e-01 -1.76196252e-02 -1.06870554e-02 -1.55001861e-01\n",
      "   2.19164336e-01 -1.89382490e-01  2.79317910e-01 -2.15678378e-01\n",
      "  -3.21347902e-04 -2.95224924e-01 -6.53808269e-01 -3.94960011e-01\n",
      "   8.36558852e-11  1.51578673e-11]\n",
      " [-2.88394758e-01  4.61134126e-01 -6.23662535e-02  3.08393170e-02\n",
      "   7.52830318e-02  6.14246541e-02 -3.10064437e-02  1.74225413e-02\n",
      "   5.66751870e-02  3.31538323e-01  4.38634421e-02 -1.43755141e-01\n",
      "  -7.43577903e-01  6.42533215e-02]\n",
      " [-2.84065213e-01  4.15457098e-01 -1.93913777e-02 -9.13016828e-03\n",
      "  -9.37034387e-02  7.08491912e-02 -2.42982599e-02  9.86575458e-03\n",
      "   2.97745792e-02  4.52034064e-01  6.05898874e-02 -3.37753889e-01\n",
      "   6.39357108e-01 -5.52474967e-02]\n",
      " [-1.67736556e-01  3.94821125e-01 -1.73619736e-01  1.47010290e-01\n",
      "   5.92196997e-01  1.92179422e-03 -3.84298076e-02  3.39678947e-02\n",
      "   1.18071866e-01 -2.17108626e-01 -3.12872271e-02  5.57261877e-01\n",
      "   1.95692918e-01 -1.69100238e-02]\n",
      " [-9.08209462e-02  1.13121077e-01 -3.55621672e-01  6.22972349e-01\n",
      "  -4.93974824e-01 -4.20935547e-01 -9.89908666e-03 -1.27669086e-02\n",
      "   5.72054989e-02 -1.32272726e-01 -1.29803120e-01  7.29219882e-02\n",
      "  -1.34291965e-11  2.76080097e-12]\n",
      " [-1.11604305e-01  3.22954500e-01 -2.59681117e-01 -5.05143231e-01\n",
      "  -4.68177643e-01  2.82698025e-01  3.26179173e-04  3.72546737e-02\n",
      "   8.75803933e-02 -4.87922435e-01  8.89387036e-02  8.05958236e-02\n",
      "  -1.97864683e-11 -1.50898678e-11]]\n"
     ]
    }
   ],
   "source": [
    "eig_vals, eig_vectors = np.linalg.eig(cov_matrix)\n",
    "print(\"Valores propios \\n%s\"%eig_vals)\n",
    "print(\"Vectores propios \\n%s\"%eig_vectors)"
   ]
  },
  {
   "cell_type": "code",
   "execution_count": null,
   "metadata": {},
   "outputs": [],
   "source": []
  }
 ],
 "metadata": {
  "kernelspec": {
   "display_name": "Python 3",
   "language": "python",
   "name": "python3"
  },
  "language_info": {
   "codemirror_mode": {
    "name": "ipython",
    "version": 3
   },
   "file_extension": ".py",
   "mimetype": "text/x-python",
   "name": "python",
   "nbconvert_exporter": "python",
   "pygments_lexer": "ipython3",
   "version": "3.7.6"
  }
 },
 "nbformat": 4,
 "nbformat_minor": 4
}
